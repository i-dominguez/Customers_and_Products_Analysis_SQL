{
 "cells": [
  {
   "cell_type": "markdown",
   "metadata": {},
   "source": [
    "# Model Cars Company"
   ]
  },
  {
   "cell_type": "markdown",
   "metadata": {},
   "source": [
    "# Index"
   ]
  },
  {
   "cell_type": "markdown",
   "metadata": {},
   "source": [
    "- [1 Introduction](#1)\n",
    "- [2 Reading the Data](#2)\n",
    "- [3 And Your Question is..?](#3)\n",
    "- [4 Supply and Profit](#4)\n",
    "- [5 Customer Loyalty](#5)\n",
    "- [6 Show Me the Money... By Country!!](#6)\n",
    "- [7 Most Sought After..](#7)\n",
    "- [8 Monthly Profits Performance...](#8)\n",
    "- [9 Closing the Deal..](#9)\n",
    "- [10 Put that Money to Work..](#10)\n",
    "- [11 Deadstock](#11)\n",
    "- [12 Recommendations](#12)\n",
    "- [13 Conclusions](#13)\n",
    "- [14 Learnings](#14)"
   ]
  },
  {
   "cell_type": "markdown",
   "metadata": {},
   "source": [
    "# 1"
   ]
  },
  {
   "cell_type": "markdown",
   "metadata": {},
   "source": [
    "## Introduction"
   ]
  },
  {
   "cell_type": "markdown",
   "metadata": {},
   "source": [
    "![image.png](attachment:image.png)\n",
    "*Source*:[mycustomhotwheels](https://mycustomhotwheels.com/hotwheels-at-hin2018/)"
   ]
  },
  {
   "cell_type": "markdown",
   "metadata": {},
   "source": [
    "Vehicle Models Company is a fictitious wholesale distributor of die cast models of vehicles ranging from vintage cars to planes. They have customers in more than 15 countries around the world. \n",
    "\n",
    "The company has asked us to go over their dataset and analyse the same to make some essential decisions related to potential future expansion.\n",
    "\n",
    "The goal of this project is to go over the questions that they have and extract answers based on the data."
   ]
  },
  {
   "cell_type": "markdown",
   "metadata": {},
   "source": [
    "# 2"
   ]
  },
  {
   "cell_type": "markdown",
   "metadata": {},
   "source": [
    "## Reading the Data"
   ]
  },
  {
   "cell_type": "markdown",
   "metadata": {},
   "source": [
    "The required data is available [here](https://www.mysqltutorial.org/mysql-sample-database.aspx) along with the schema which has been provided below."
   ]
  },
  {
   "cell_type": "code",
   "execution_count": 1,
   "metadata": {},
   "outputs": [],
   "source": [
    "%%capture\n",
    "%load_ext sql\n",
    "%sql sqlite:///stores.db"
   ]
  },
  {
   "cell_type": "markdown",
   "metadata": {},
   "source": [
    "![image.png](attachment:image.png)"
   ]
  },
  {
   "cell_type": "markdown",
   "metadata": {},
   "source": [
    "Before we proceed with analysing the database, let's look at an overview of it."
   ]
  },
  {
   "cell_type": "code",
   "execution_count": 2,
   "metadata": {},
   "outputs": [
    {
     "name": "stdout",
     "output_type": "stream",
     "text": [
      " * sqlite:///stores.db\n",
      "Done.\n"
     ]
    },
    {
     "data": {
      "text/html": [
       "<table>\n",
       "    <thead>\n",
       "        <tr>\n",
       "            <th>Table_Names</th>\n",
       "            <th>Number_of_Attributes</th>\n",
       "            <th>Number_of_Rows</th>\n",
       "        </tr>\n",
       "    </thead>\n",
       "    <tbody>\n",
       "        <tr>\n",
       "            <td></td>\n",
       "            <td></td>\n",
       "            <td></td>\n",
       "        </tr>\n",
       "        <tr>\n",
       "            <td>Customer</td>\n",
       "            <td>13</td>\n",
       "            <td>122</td>\n",
       "        </tr>\n",
       "        <tr>\n",
       "            <td>Products</td>\n",
       "            <td>9</td>\n",
       "            <td>110</td>\n",
       "        </tr>\n",
       "        <tr>\n",
       "            <td>ProductLines</td>\n",
       "            <td>4</td>\n",
       "            <td>7</td>\n",
       "        </tr>\n",
       "        <tr>\n",
       "            <td>Orders</td>\n",
       "            <td>7</td>\n",
       "            <td>326</td>\n",
       "        </tr>\n",
       "        <tr>\n",
       "            <td>OrderDetails</td>\n",
       "            <td>5</td>\n",
       "            <td>2996</td>\n",
       "        </tr>\n",
       "        <tr>\n",
       "            <td>Payments</td>\n",
       "            <td>4</td>\n",
       "            <td>273</td>\n",
       "        </tr>\n",
       "        <tr>\n",
       "            <td>Employees</td>\n",
       "            <td>8</td>\n",
       "            <td>23</td>\n",
       "        </tr>\n",
       "        <tr>\n",
       "            <td>Offices</td>\n",
       "            <td>9</td>\n",
       "            <td>7</td>\n",
       "        </tr>\n",
       "    </tbody>\n",
       "</table>"
      ],
      "text/plain": [
       "[('', '', ''),\n",
       " ('Customer', 13, 122),\n",
       " ('Products', 9, 110),\n",
       " ('ProductLines', 4, 7),\n",
       " ('Orders', 7, 326),\n",
       " ('OrderDetails', 5, 2996),\n",
       " ('Payments', 4, 273),\n",
       " ('Employees', 8, 23),\n",
       " ('Offices', 9, 7)]"
      ]
     },
     "execution_count": 2,
     "metadata": {},
     "output_type": "execute_result"
    }
   ],
   "source": [
    "%%sql\n",
    "SELECT '' AS Table_Names,'' AS Number_of_Attributes,'' AS Number_of_Rows\n",
    "UNION ALL\n",
    "SELECT 'Customer',13,(SELECT COUNT(*)\n",
    "                        FROM customers)\n",
    "UNION ALL\n",
    "SELECT 'Products',9,(SELECT COUNT(*)\n",
    "                        FROM products)\n",
    "UNION ALL\n",
    "SELECT 'ProductLines',4,(SELECT COUNT(*)\n",
    "                        FROM productlines)\n",
    "UNION ALL\n",
    "SELECT 'Orders',7,(SELECT COUNT(*)\n",
    "                        FROM orders)\n",
    "UNION ALL\n",
    "SELECT 'OrderDetails',5,(SELECT COUNT(*)\n",
    "                        FROM orderdetails)\n",
    "UNION ALL\n",
    "SELECT 'Payments',4,(SELECT COUNT(*)\n",
    "                        FROM payments)\n",
    "UNION ALL\n",
    "SELECT 'Employees',8,(SELECT COUNT(*)\n",
    "                        FROM employees)\n",
    "UNION ALL\n",
    "SELECT 'Offices',9,(SELECT COUNT(*)\n",
    "                        FROM offices)"
   ]
  },
  {
   "cell_type": "markdown",
   "metadata": {},
   "source": [
    "Also, let's look at a description of each table:\n",
    "\n",
    "- Customers: stores customer’s data.\n",
    "- Products: stores a list of scale model cars.\n",
    "- ProductLines: stores a list of product line categories.\n",
    "- Orders: stores sales orders placed by customers.\n",
    "- OrderDetails: stores sales order line items for each sales order.\n",
    "- Payments: stores payments made by customers based on their accounts.\n",
    "- Employees: stores all employee information as well as the organization structure such as who reports to whom.\n",
    "- Offices: stores sales office data."
   ]
  },
  {
   "cell_type": "code",
   "execution_count": 1,
   "metadata": {},
   "outputs": [
    {
     "data": {
      "text/html": [
       "<div>\n",
       "<style scoped>\n",
       "    .dataframe tbody tr th:only-of-type {\n",
       "        vertical-align: middle;\n",
       "    }\n",
       "\n",
       "    .dataframe tbody tr th {\n",
       "        vertical-align: top;\n",
       "    }\n",
       "\n",
       "    .dataframe thead th {\n",
       "        text-align: right;\n",
       "    }\n",
       "</style>\n",
       "<table border=\"1\" class=\"dataframe\">\n",
       "  <thead>\n",
       "    <tr style=\"text-align: right;\">\n",
       "      <th></th>\n",
       "      <th>officeCode</th>\n",
       "      <th>city</th>\n",
       "      <th>phone</th>\n",
       "      <th>addressLine1</th>\n",
       "      <th>addressLine2</th>\n",
       "      <th>state</th>\n",
       "      <th>country</th>\n",
       "      <th>postalCode</th>\n",
       "      <th>territory</th>\n",
       "    </tr>\n",
       "  </thead>\n",
       "  <tbody>\n",
       "    <tr>\n",
       "      <th>0</th>\n",
       "      <td>1</td>\n",
       "      <td>San Francisco</td>\n",
       "      <td>+1 650 219 4782</td>\n",
       "      <td>100 Market Street</td>\n",
       "      <td>Suite 300</td>\n",
       "      <td>CA</td>\n",
       "      <td>USA</td>\n",
       "      <td>94080</td>\n",
       "      <td>NA</td>\n",
       "    </tr>\n",
       "    <tr>\n",
       "      <th>1</th>\n",
       "      <td>2</td>\n",
       "      <td>Boston</td>\n",
       "      <td>+1 215 837 0825</td>\n",
       "      <td>1550 Court Place</td>\n",
       "      <td>Suite 102</td>\n",
       "      <td>MA</td>\n",
       "      <td>USA</td>\n",
       "      <td>02107</td>\n",
       "      <td>NA</td>\n",
       "    </tr>\n",
       "    <tr>\n",
       "      <th>2</th>\n",
       "      <td>3</td>\n",
       "      <td>NYC</td>\n",
       "      <td>+1 212 555 3000</td>\n",
       "      <td>523 East 53rd Street</td>\n",
       "      <td>apt. 5A</td>\n",
       "      <td>NY</td>\n",
       "      <td>USA</td>\n",
       "      <td>10022</td>\n",
       "      <td>NA</td>\n",
       "    </tr>\n",
       "    <tr>\n",
       "      <th>3</th>\n",
       "      <td>4</td>\n",
       "      <td>Paris</td>\n",
       "      <td>+33 14 723 4404</td>\n",
       "      <td>43 Rue Jouffroy D'abbans</td>\n",
       "      <td>None</td>\n",
       "      <td>None</td>\n",
       "      <td>France</td>\n",
       "      <td>75017</td>\n",
       "      <td>EMEA</td>\n",
       "    </tr>\n",
       "    <tr>\n",
       "      <th>4</th>\n",
       "      <td>5</td>\n",
       "      <td>Tokyo</td>\n",
       "      <td>+81 33 224 5000</td>\n",
       "      <td>4-1 Kioicho</td>\n",
       "      <td>None</td>\n",
       "      <td>Chiyoda-Ku</td>\n",
       "      <td>Japan</td>\n",
       "      <td>102-8578</td>\n",
       "      <td>Japan</td>\n",
       "    </tr>\n",
       "    <tr>\n",
       "      <th>5</th>\n",
       "      <td>6</td>\n",
       "      <td>Sydney</td>\n",
       "      <td>+61 2 9264 2451</td>\n",
       "      <td>5-11 Wentworth Avenue</td>\n",
       "      <td>Floor #2</td>\n",
       "      <td>None</td>\n",
       "      <td>Australia</td>\n",
       "      <td>NSW 2010</td>\n",
       "      <td>APAC</td>\n",
       "    </tr>\n",
       "    <tr>\n",
       "      <th>6</th>\n",
       "      <td>7</td>\n",
       "      <td>London</td>\n",
       "      <td>+44 20 7877 2041</td>\n",
       "      <td>25 Old Broad Street</td>\n",
       "      <td>Level 7</td>\n",
       "      <td>None</td>\n",
       "      <td>UK</td>\n",
       "      <td>EC2N 1HN</td>\n",
       "      <td>EMEA</td>\n",
       "    </tr>\n",
       "  </tbody>\n",
       "</table>\n",
       "</div>"
      ],
      "text/plain": [
       "  officeCode           city             phone              addressLine1  \\\n",
       "0          1  San Francisco   +1 650 219 4782         100 Market Street   \n",
       "1          2         Boston   +1 215 837 0825          1550 Court Place   \n",
       "2          3            NYC   +1 212 555 3000      523 East 53rd Street   \n",
       "3          4          Paris   +33 14 723 4404  43 Rue Jouffroy D'abbans   \n",
       "4          5          Tokyo   +81 33 224 5000               4-1 Kioicho   \n",
       "5          6         Sydney   +61 2 9264 2451     5-11 Wentworth Avenue   \n",
       "6          7         London  +44 20 7877 2041       25 Old Broad Street   \n",
       "\n",
       "  addressLine2       state    country postalCode territory  \n",
       "0    Suite 300          CA        USA      94080        NA  \n",
       "1    Suite 102          MA        USA      02107        NA  \n",
       "2      apt. 5A          NY        USA      10022        NA  \n",
       "3         None        None     France      75017      EMEA  \n",
       "4         None  Chiyoda-Ku      Japan   102-8578     Japan  \n",
       "5     Floor #2        None  Australia   NSW 2010      APAC  \n",
       "6      Level 7        None         UK   EC2N 1HN      EMEA  "
      ]
     },
     "execution_count": 1,
     "metadata": {},
     "output_type": "execute_result"
    }
   ],
   "source": [
    "import sqlite3\n",
    "import pandas as pd\n",
    "import seaborn as sns\n",
    "import matplotlib.pyplot as plt\n",
    "\n",
    "conn = sqlite3.connect('stores.db')\n",
    "df = pd.read_sql_query(\"\"\"SELECT * \n",
    "                            FROM offices;\"\"\", conn) s\n",
    "df"
   ]
  },
  {
   "cell_type": "markdown",
   "metadata": {},
   "source": []
  }
 ],
 "metadata": {
  "interpreter": {
   "hash": "f76fe04991faffe06b4e1a4e6744c6f68f9ce7041f320ae590fc5c63dfb555f9"
  },
  "kernelspec": {
   "display_name": "Python 3.9.12",
   "language": "python",
   "name": "python3"
  },
  "language_info": {
   "codemirror_mode": {
    "name": "ipython",
    "version": 3
   },
   "file_extension": ".py",
   "mimetype": "text/x-python",
   "name": "python",
   "nbconvert_exporter": "python",
   "pygments_lexer": "ipython3",
   "version": "3.9.12"
  },
  "orig_nbformat": 4
 },
 "nbformat": 4,
 "nbformat_minor": 2
}
