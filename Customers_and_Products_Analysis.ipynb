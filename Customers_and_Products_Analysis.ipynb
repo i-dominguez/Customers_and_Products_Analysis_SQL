{
 "cells": [
  {
   "cell_type": "markdown",
   "metadata": {},
   "source": [
    "# Model Cars Company"
   ]
  },
  {
   "cell_type": "markdown",
   "metadata": {},
   "source": [
    "# Index"
   ]
  },
  {
   "cell_type": "markdown",
   "metadata": {},
   "source": [
    "- [1 Introduction](#1)\n",
    "- [2 Reading the Data](#2)\n",
    "- [3 And Your Question is..?](#3)\n",
    "- [4 Supply and Profit](#4)\n",
    "- [5 Customer Loyalty](#5)\n",
    "- [6 Show Me the Money... By Country!!](#6)\n",
    "- [7 Most Sought After..](#7)\n",
    "- [8 Monthly Profits Performance...](#8)\n",
    "- [9 Closing the Deal..](#9)\n",
    "- [10 Put that Money to Work..](#10)\n",
    "- [11 Deadstock](#11)\n",
    "- [12 Recommendations](#12)\n",
    "- [13 Conclusions](#13)\n",
    "- [14 Learnings](#14)"
   ]
  },
  {
   "cell_type": "markdown",
   "metadata": {},
   "source": [
    "# 1"
   ]
  },
  {
   "cell_type": "markdown",
   "metadata": {},
   "source": [
    "## Introduction"
   ]
  },
  {
   "cell_type": "markdown",
   "metadata": {},
   "source": [
    "![image](https://mycustomhotwheels.com/wp-content/uploads/2019/01/HIN-Hot-Wheels-Diorama-15-1080x675.jpg)\n",
    "*Source*:[mycustomhotwheels](https://mycustomhotwheels.com/hotwheels-at-hin2018/)"
   ]
  },
  {
   "cell_type": "markdown",
   "metadata": {},
   "source": [
    "Vehicle Models Company is a fictitious wholesale distributor of die cast models of vehicles ranging from vintage cars to planes. They have customers in more than 15 countries around the world. \n",
    "\n",
    "The company has asked us to go over their dataset and analyse the same to make some essential decisions related to potential future expansion.\n",
    "\n",
    "The goal of this project is to go over the questions that they have and extract answers based on the data."
   ]
  },
  {
   "cell_type": "markdown",
   "metadata": {},
   "source": [
    "It must be noted that the organization has given us freedom in taking assumptions as they do not have staff that can cater to our doubts and questions. We have been advised that clarification (regarding our assumptions) will be made after an initial report has been submitted."
   ]
  },
  {
   "cell_type": "markdown",
   "metadata": {},
   "source": [
    "# 2"
   ]
  },
  {
   "cell_type": "markdown",
   "metadata": {},
   "source": [
    "## Reading the Data"
   ]
  },
  {
   "cell_type": "markdown",
   "metadata": {},
   "source": [
    "The required data is available [here](https://www.mysqltutorial.org/mysql-sample-database.aspx) along with the schema which has been provided below."
   ]
  },
  {
   "cell_type": "code",
   "execution_count": 2,
   "metadata": {},
   "outputs": [],
   "source": [
    "%%capture\n",
    "%load_ext sql\n",
    "%sql sqlite:///stores.db"
   ]
  },
  {
   "cell_type": "markdown",
   "metadata": {},
   "source": [
    "![image](https://www.mysqltutorial.org/wp-content/uploads/2009/12/MySQL-Sample-Database-Schema.png)"
   ]
  },
  {
   "cell_type": "markdown",
   "metadata": {},
   "source": [
    "Before we proceed with analysing the database, let's look at an overview of it."
   ]
  },
  {
   "cell_type": "code",
   "execution_count": 3,
   "metadata": {},
   "outputs": [
    {
     "name": "stdout",
     "output_type": "stream",
     "text": [
      " * sqlite:///stores.db\n",
      "Done.\n"
     ]
    },
    {
     "data": {
      "text/html": [
       "<table>\n",
       "    <thead>\n",
       "        <tr>\n",
       "            <th>Table_Names</th>\n",
       "            <th>Number_of_Attributes</th>\n",
       "            <th>Number_of_Rows</th>\n",
       "        </tr>\n",
       "    </thead>\n",
       "    <tbody>\n",
       "        <tr>\n",
       "            <td></td>\n",
       "            <td></td>\n",
       "            <td></td>\n",
       "        </tr>\n",
       "        <tr>\n",
       "            <td>Customer</td>\n",
       "            <td>13</td>\n",
       "            <td>122</td>\n",
       "        </tr>\n",
       "        <tr>\n",
       "            <td>Products</td>\n",
       "            <td>9</td>\n",
       "            <td>110</td>\n",
       "        </tr>\n",
       "        <tr>\n",
       "            <td>ProductLines</td>\n",
       "            <td>4</td>\n",
       "            <td>7</td>\n",
       "        </tr>\n",
       "        <tr>\n",
       "            <td>Orders</td>\n",
       "            <td>7</td>\n",
       "            <td>326</td>\n",
       "        </tr>\n",
       "        <tr>\n",
       "            <td>OrderDetails</td>\n",
       "            <td>5</td>\n",
       "            <td>2996</td>\n",
       "        </tr>\n",
       "        <tr>\n",
       "            <td>Payments</td>\n",
       "            <td>4</td>\n",
       "            <td>273</td>\n",
       "        </tr>\n",
       "        <tr>\n",
       "            <td>Employees</td>\n",
       "            <td>8</td>\n",
       "            <td>23</td>\n",
       "        </tr>\n",
       "        <tr>\n",
       "            <td>Offices</td>\n",
       "            <td>9</td>\n",
       "            <td>7</td>\n",
       "        </tr>\n",
       "    </tbody>\n",
       "</table>"
      ],
      "text/plain": [
       "[('', '', ''),\n",
       " ('Customer', 13, 122),\n",
       " ('Products', 9, 110),\n",
       " ('ProductLines', 4, 7),\n",
       " ('Orders', 7, 326),\n",
       " ('OrderDetails', 5, 2996),\n",
       " ('Payments', 4, 273),\n",
       " ('Employees', 8, 23),\n",
       " ('Offices', 9, 7)]"
      ]
     },
     "execution_count": 3,
     "metadata": {},
     "output_type": "execute_result"
    }
   ],
   "source": [
    "%%sql\n",
    "SELECT '' AS Table_Names,'' AS Number_of_Attributes,'' AS Number_of_Rows\n",
    "UNION ALL\n",
    "SELECT 'Customer',13,(SELECT COUNT(*)\n",
    "                        FROM customers)\n",
    "UNION ALL\n",
    "SELECT 'Products',9,(SELECT COUNT(*)\n",
    "                        FROM products)\n",
    "UNION ALL\n",
    "SELECT 'ProductLines',4,(SELECT COUNT(*)\n",
    "                        FROM productlines)\n",
    "UNION ALL\n",
    "SELECT 'Orders',7,(SELECT COUNT(*)\n",
    "                        FROM orders)\n",
    "UNION ALL\n",
    "SELECT 'OrderDetails',5,(SELECT COUNT(*)\n",
    "                        FROM orderdetails)\n",
    "UNION ALL\n",
    "SELECT 'Payments',4,(SELECT COUNT(*)\n",
    "                        FROM payments)\n",
    "UNION ALL\n",
    "SELECT 'Employees',8,(SELECT COUNT(*)\n",
    "                        FROM employees)\n",
    "UNION ALL\n",
    "SELECT 'Offices',9,(SELECT COUNT(*)\n",
    "                        FROM offices)"
   ]
  },
  {
   "cell_type": "markdown",
   "metadata": {},
   "source": [
    "Also, let's look at a description of each table:\n",
    "\n",
    "- Customers: stores customer’s data.\n",
    "- Products: stores a list of scale model cars.\n",
    "- ProductLines: stores a list of product line categories.\n",
    "- Orders: stores sales orders placed by customers.\n",
    "- OrderDetails: stores sales order line items for each sales order.\n",
    "- Payments: stores payments made by customers based on their accounts.\n",
    "- Employees: stores all employee information as well as the organization structure such as who reports to whom.\n",
    "- Offices: stores sales office data."
   ]
  },
  {
   "cell_type": "markdown",
   "metadata": {},
   "source": [
    "Now, let's turn to the offices table. We are going to read the following SQL query into a DataFrame."
   ]
  },
  {
   "cell_type": "code",
   "execution_count": 4,
   "metadata": {},
   "outputs": [
    {
     "data": {
      "text/html": [
       "<div>\n",
       "<style scoped>\n",
       "    .dataframe tbody tr th:only-of-type {\n",
       "        vertical-align: middle;\n",
       "    }\n",
       "\n",
       "    .dataframe tbody tr th {\n",
       "        vertical-align: top;\n",
       "    }\n",
       "\n",
       "    .dataframe thead th {\n",
       "        text-align: right;\n",
       "    }\n",
       "</style>\n",
       "<table border=\"1\" class=\"dataframe\">\n",
       "  <thead>\n",
       "    <tr style=\"text-align: right;\">\n",
       "      <th></th>\n",
       "      <th>officeCode</th>\n",
       "      <th>city</th>\n",
       "      <th>phone</th>\n",
       "      <th>addressLine1</th>\n",
       "      <th>addressLine2</th>\n",
       "      <th>state</th>\n",
       "      <th>country</th>\n",
       "      <th>postalCode</th>\n",
       "      <th>territory</th>\n",
       "    </tr>\n",
       "  </thead>\n",
       "  <tbody>\n",
       "    <tr>\n",
       "      <th>0</th>\n",
       "      <td>1</td>\n",
       "      <td>San Francisco</td>\n",
       "      <td>+1 650 219 4782</td>\n",
       "      <td>100 Market Street</td>\n",
       "      <td>Suite 300</td>\n",
       "      <td>CA</td>\n",
       "      <td>USA</td>\n",
       "      <td>94080</td>\n",
       "      <td>NA</td>\n",
       "    </tr>\n",
       "    <tr>\n",
       "      <th>1</th>\n",
       "      <td>2</td>\n",
       "      <td>Boston</td>\n",
       "      <td>+1 215 837 0825</td>\n",
       "      <td>1550 Court Place</td>\n",
       "      <td>Suite 102</td>\n",
       "      <td>MA</td>\n",
       "      <td>USA</td>\n",
       "      <td>02107</td>\n",
       "      <td>NA</td>\n",
       "    </tr>\n",
       "    <tr>\n",
       "      <th>2</th>\n",
       "      <td>3</td>\n",
       "      <td>NYC</td>\n",
       "      <td>+1 212 555 3000</td>\n",
       "      <td>523 East 53rd Street</td>\n",
       "      <td>apt. 5A</td>\n",
       "      <td>NY</td>\n",
       "      <td>USA</td>\n",
       "      <td>10022</td>\n",
       "      <td>NA</td>\n",
       "    </tr>\n",
       "    <tr>\n",
       "      <th>3</th>\n",
       "      <td>4</td>\n",
       "      <td>Paris</td>\n",
       "      <td>+33 14 723 4404</td>\n",
       "      <td>43 Rue Jouffroy D'abbans</td>\n",
       "      <td>None</td>\n",
       "      <td>None</td>\n",
       "      <td>France</td>\n",
       "      <td>75017</td>\n",
       "      <td>EMEA</td>\n",
       "    </tr>\n",
       "    <tr>\n",
       "      <th>4</th>\n",
       "      <td>5</td>\n",
       "      <td>Tokyo</td>\n",
       "      <td>+81 33 224 5000</td>\n",
       "      <td>4-1 Kioicho</td>\n",
       "      <td>None</td>\n",
       "      <td>Chiyoda-Ku</td>\n",
       "      <td>Japan</td>\n",
       "      <td>102-8578</td>\n",
       "      <td>Japan</td>\n",
       "    </tr>\n",
       "    <tr>\n",
       "      <th>5</th>\n",
       "      <td>6</td>\n",
       "      <td>Sydney</td>\n",
       "      <td>+61 2 9264 2451</td>\n",
       "      <td>5-11 Wentworth Avenue</td>\n",
       "      <td>Floor #2</td>\n",
       "      <td>None</td>\n",
       "      <td>Australia</td>\n",
       "      <td>NSW 2010</td>\n",
       "      <td>APAC</td>\n",
       "    </tr>\n",
       "    <tr>\n",
       "      <th>6</th>\n",
       "      <td>7</td>\n",
       "      <td>London</td>\n",
       "      <td>+44 20 7877 2041</td>\n",
       "      <td>25 Old Broad Street</td>\n",
       "      <td>Level 7</td>\n",
       "      <td>None</td>\n",
       "      <td>UK</td>\n",
       "      <td>EC2N 1HN</td>\n",
       "      <td>EMEA</td>\n",
       "    </tr>\n",
       "  </tbody>\n",
       "</table>\n",
       "</div>"
      ],
      "text/plain": [
       "  officeCode           city             phone              addressLine1  \\\n",
       "0          1  San Francisco   +1 650 219 4782         100 Market Street   \n",
       "1          2         Boston   +1 215 837 0825          1550 Court Place   \n",
       "2          3            NYC   +1 212 555 3000      523 East 53rd Street   \n",
       "3          4          Paris   +33 14 723 4404  43 Rue Jouffroy D'abbans   \n",
       "4          5          Tokyo   +81 33 224 5000               4-1 Kioicho   \n",
       "5          6         Sydney   +61 2 9264 2451     5-11 Wentworth Avenue   \n",
       "6          7         London  +44 20 7877 2041       25 Old Broad Street   \n",
       "\n",
       "  addressLine2       state    country postalCode territory  \n",
       "0    Suite 300          CA        USA      94080        NA  \n",
       "1    Suite 102          MA        USA      02107        NA  \n",
       "2      apt. 5A          NY        USA      10022        NA  \n",
       "3         None        None     France      75017      EMEA  \n",
       "4         None  Chiyoda-Ku      Japan   102-8578     Japan  \n",
       "5     Floor #2        None  Australia   NSW 2010      APAC  \n",
       "6      Level 7        None         UK   EC2N 1HN      EMEA  "
      ]
     },
     "execution_count": 4,
     "metadata": {},
     "output_type": "execute_result"
    }
   ],
   "source": [
    "import sqlite3\n",
    "import pandas as pd\n",
    "import seaborn as sns\n",
    "import matplotlib.pyplot as plt\n",
    "\n",
    "conn = sqlite3.connect('stores.db')\n",
    "df = pd.read_sql_query(\"\"\"SELECT * \n",
    "                            FROM offices;\"\"\", conn)\n",
    "df"
   ]
  },
  {
   "cell_type": "markdown",
   "metadata": {},
   "source": [
    "The company has a number of offices and each office has multiple employees. Every customer is associated to a sales rep. whose employee ID is recorded in the salesRepEmployeeNumber column of the Customer table.\n",
    "\n",
    "The company has many products that are categorised into product lines. Every incoming order lists certain order specific details related to a product and those details are listed in the OrderDetails table. The orders associated to the items in the OrderDetails table are separately tracked in the Orders table. \n",
    "\n",
    "The status column in the order tracks the progress of the order from when it is received to when it is shipped out. The different statuses of an order have been listed below.\n",
    "\n",
    "Once the order is shipped out, customers seem to be paying for their orders in a cumulative manner. Customers have the option of utilising credit based on the CreditLimit column the in the Customer table. While going over the comments column of the Orders table it was noticed that an order can be put on hold if a user has gone beyond their credit limit for a particular order. The order is processed only after the payment is cleared."
   ]
  },
  {
   "cell_type": "code",
   "execution_count": 5,
   "metadata": {},
   "outputs": [
    {
     "name": "stdout",
     "output_type": "stream",
     "text": [
      " * sqlite:///stores.db\n",
      "Done.\n"
     ]
    },
    {
     "data": {
      "text/html": [
       "<table>\n",
       "    <thead>\n",
       "        <tr>\n",
       "            <th>Order_Status</th>\n",
       "            <th>Number_of_Orders</th>\n",
       "        </tr>\n",
       "    </thead>\n",
       "    <tbody>\n",
       "        <tr>\n",
       "            <td>Shipped</td>\n",
       "            <td>303</td>\n",
       "        </tr>\n",
       "        <tr>\n",
       "            <td>In Process</td>\n",
       "            <td>6</td>\n",
       "        </tr>\n",
       "        <tr>\n",
       "            <td>Cancelled</td>\n",
       "            <td>6</td>\n",
       "        </tr>\n",
       "        <tr>\n",
       "            <td>Resolved</td>\n",
       "            <td>4</td>\n",
       "        </tr>\n",
       "        <tr>\n",
       "            <td>On Hold</td>\n",
       "            <td>4</td>\n",
       "        </tr>\n",
       "        <tr>\n",
       "            <td>Disputed</td>\n",
       "            <td>3</td>\n",
       "        </tr>\n",
       "    </tbody>\n",
       "</table>"
      ],
      "text/plain": [
       "[('Shipped', 303),\n",
       " ('In Process', 6),\n",
       " ('Cancelled', 6),\n",
       " ('Resolved', 4),\n",
       " ('On Hold', 4),\n",
       " ('Disputed', 3)]"
      ]
     },
     "execution_count": 5,
     "metadata": {},
     "output_type": "execute_result"
    }
   ],
   "source": [
    "%%sql\n",
    "SELECT status AS Order_Status,COUNT(status) AS Number_of_Orders\n",
    "  FROM orders\n",
    " GROUP BY status\n",
    " ORDER BY Number_of_Orders DESC"
   ]
  },
  {
   "cell_type": "markdown",
   "metadata": {},
   "source": [
    "We shall be analyzing only orders that have shipped out since all of the other orders require payment clearance. Orders and Order Details associated to shipped orders will therefore need to be filtered out."
   ]
  },
  {
   "cell_type": "code",
   "execution_count": 6,
   "metadata": {},
   "outputs": [
    {
     "name": "stdout",
     "output_type": "stream",
     "text": [
      " * sqlite:///stores.db\n",
      "(sqlite3.OperationalError) view shipped_orders already exists\n",
      "[SQL: --#Create view to filter only orders with status 'Shipped'\n",
      "CREATE VIEW shipped_orders AS\n",
      "SELECT orders.*,\n",
      "       ROUND(SUM(orderdetails.quantityOrdered*orderdetails.priceEach),2) AS Order_Total,\n",
      "       ROUND(SUM((orderdetails.priceEach - products.buyPrice)*orderdetails.quantityOrdered),2) AS Order_Profit\n",
      "  FROM orders\n",
      "  JOIN orderdetails\n",
      "    ON orders.orderNumber=orderdetails.orderNumber\n",
      "  JOIN products\n",
      "    ON orderdetails.productCode=products.productCode\n",
      " GROUP BY orders.orderNumber\n",
      "HAVING status = 'Shipped';]\n",
      "(Background on this error at: https://sqlalche.me/e/14/e3q8)\n"
     ]
    }
   ],
   "source": [
    "%%sql\n",
    "--#Create view to filter only orders with status 'Shipped'\n",
    "CREATE VIEW shipped_orders AS\n",
    "SELECT orders.*,\n",
    "       ROUND(SUM(orderdetails.quantityOrdered*orderdetails.priceEach),2) AS Order_Total,\n",
    "       ROUND(SUM((orderdetails.priceEach - products.buyPrice)*orderdetails.quantityOrdered),2) AS Order_Profit\n",
    "  FROM orders\n",
    "  JOIN orderdetails\n",
    "    ON orders.orderNumber=orderdetails.orderNumber\n",
    "  JOIN products\n",
    "    ON orderdetails.productCode=products.productCode\n",
    " GROUP BY orders.orderNumber\n",
    "HAVING status = 'Shipped';\n",
    "\n",
    "SELECT *\n",
    "  FROM shipped_orders\n",
    " LIMIT 5;"
   ]
  },
  {
   "cell_type": "code",
   "execution_count": 7,
   "metadata": {},
   "outputs": [
    {
     "name": "stdout",
     "output_type": "stream",
     "text": [
      " * sqlite:///stores.db\n",
      "(sqlite3.OperationalError) view shipped_order_details already exists\n",
      "[SQL: --#Filter Order details associated to orders with 'Shipped' status\n",
      "CREATE VIEW shipped_order_details AS\n",
      "SELECT *\n",
      "  FROM orderdetails\n",
      " WHERE orderNumber IN (SELECT orderNumber\n",
      "                         FROM shipped_orders);]\n",
      "(Background on this error at: https://sqlalche.me/e/14/e3q8)\n"
     ]
    }
   ],
   "source": [
    "%%sql\n",
    "--#Filter Order details associated to orders with 'Shipped' status\n",
    "CREATE VIEW shipped_order_details AS\n",
    "SELECT *\n",
    "  FROM orderdetails\n",
    " WHERE orderNumber IN (SELECT orderNumber\n",
    "                         FROM shipped_orders);"
   ]
  },
  {
   "cell_type": "markdown",
   "metadata": {},
   "source": [
    "Now that we have filtered the order and order details based on the order status, we can explore the questions that Vehicles Models Company has."
   ]
  },
  {
   "cell_type": "markdown",
   "metadata": {},
   "source": [
    "# 3"
   ]
  },
  {
   "cell_type": "markdown",
   "metadata": {},
   "source": [
    "## And Your Question is..?\n",
    "**Exploring the questions put forward by Vehicles Models Company**"
   ]
  },
  {
   "cell_type": "markdown",
   "metadata": {},
   "source": [
    "We have been asked to make assessments or answer related to the following:\n",
    "\n",
    "1. Can you identify the top 10 models that are in demand?\n",
    "2. Identify for us, the top five customers\n",
    "3. In which countries should we target our marketing for maximum return?\n",
    "4. Identify the best and worst categories for each country\n",
    "5. How was the sales performance over the entire time period when we have had sales?\n",
    "6. We want to expand our sales team, however we need to know the performance of our current sales team.\n",
    "7. Should we focus on getting new customers or engaging our existing customers to increase our sales?\n",
    "8. Are there items in our stock that have not sold for a long time?"
   ]
  },
  {
   "cell_type": "markdown",
   "metadata": {},
   "source": [
    "Clearly some of these questions are not very precise and require a number of assumptions. As mentioned earlier we shall make the assessments and answer these questions using assumptions."
   ]
  },
  {
   "cell_type": "markdown",
   "metadata": {},
   "source": [
    "# 4"
   ]
  },
  {
   "cell_type": "markdown",
   "metadata": {},
   "source": [
    "## Supply and Profit\n",
    "**Identifying Products that are in high demand and have great selling value**"
   ]
  },
  {
   "cell_type": "markdown",
   "metadata": {},
   "source": [
    "Our first question pertains to identifying items that are in high demand in most orders and highly profitable to us. Stocking up on these items will ensure that we can fulfil the market needs and simultaneously make some extra cash.\n",
    "\n",
    "The customer has provided formulas by which we are expected to identify items that are currently in low stock and to identify items that exhibit great selling power."
   ]
  },
  {
   "cell_type": "markdown",
   "metadata": {},
   "source": [
    "![image](data:image/png;base64,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)"
   ]
  },
  {
   "cell_type": "markdown",
   "metadata": {},
   "source": [
    "![image](data:image/png;base64,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)"
   ]
  },
  {
   "cell_type": "code",
   "execution_count": 8,
   "metadata": {},
   "outputs": [
    {
     "name": "stdout",
     "output_type": "stream",
     "text": [
      " * sqlite:///stores.db\n",
      "Done.\n",
      "Done.\n",
      "Done.\n"
     ]
    },
    {
     "data": {
      "text/html": [
       "<table>\n",
       "    <thead>\n",
       "        <tr>\n",
       "            <th>productCode</th>\n",
       "            <th>prod_perf</th>\n",
       "        </tr>\n",
       "    </thead>\n",
       "    <tbody>\n",
       "        <tr>\n",
       "            <td>S12_2823</td>\n",
       "            <td>135767.03000000003</td>\n",
       "        </tr>\n",
       "        <tr>\n",
       "            <td>S18_3482</td>\n",
       "            <td>121890.6</td>\n",
       "        </tr>\n",
       "        <tr>\n",
       "            <td>S18_1984</td>\n",
       "            <td>119050.95</td>\n",
       "        </tr>\n",
       "        <tr>\n",
       "            <td>S18_2325</td>\n",
       "            <td>109992.01000000002</td>\n",
       "        </tr>\n",
       "        <tr>\n",
       "            <td>S18_1589</td>\n",
       "            <td>101778.13000000002</td>\n",
       "        </tr>\n",
       "        <tr>\n",
       "            <td>S18_2870</td>\n",
       "            <td>100770.12</td>\n",
       "        </tr>\n",
       "        <tr>\n",
       "            <td>S12_3380</td>\n",
       "            <td>98718.76000000001</td>\n",
       "        </tr>\n",
       "        <tr>\n",
       "            <td>S700_2466</td>\n",
       "            <td>89347.79999999999</td>\n",
       "        </tr>\n",
       "        <tr>\n",
       "            <td>S24_3432</td>\n",
       "            <td>87404.81000000001</td>\n",
       "        </tr>\n",
       "        <tr>\n",
       "            <td>S32_2206</td>\n",
       "            <td>33268.76</td>\n",
       "        </tr>\n",
       "    </tbody>\n",
       "</table>"
      ],
      "text/plain": [
       "[('S12_2823', 135767.03000000003),\n",
       " ('S18_3482', 121890.6),\n",
       " ('S18_1984', 119050.95),\n",
       " ('S18_2325', 109992.01000000002),\n",
       " ('S18_1589', 101778.13000000002),\n",
       " ('S18_2870', 100770.12),\n",
       " ('S12_3380', 98718.76000000001),\n",
       " ('S700_2466', 89347.79999999999),\n",
       " ('S24_3432', 87404.81000000001),\n",
       " ('S32_2206', 33268.76)]"
      ]
     },
     "execution_count": 8,
     "metadata": {},
     "output_type": "execute_result"
    }
   ],
   "source": [
    "%%sql\n",
    "--Low stock\n",
    "SELECT productCode, \n",
    "       ROUND(SUM(quantityOrdered) * 1.0 / (SELECT quantityInStock\n",
    "                                             FROM products p\n",
    "                                            WHERE od.productCode = p.productCode), 2) AS low_stock\n",
    "  FROM orderdetails od\n",
    " GROUP BY productCode\n",
    " ORDER BY low_stock\n",
    " LIMIT 10;\n",
    " \n",
    "\n",
    "-- Product performance\n",
    "SELECT productCode, \n",
    "       SUM(quantityOrdered * priceEach) AS prod_perf\n",
    "  FROM orderdetails od\n",
    " GROUP BY productCode \n",
    " ORDER BY prod_perf DESC\n",
    " LIMIT 10;\n",
    " \n",
    "-- Priority Products for restocking\n",
    "WITH \n",
    "\n",
    "low_stock_table AS (\n",
    "SELECT productCode, \n",
    "       ROUND(SUM(quantityOrdered) * 1.0/(SELECT quantityInStock\n",
    "                                           FROM products p\n",
    "                                          WHERE od.productCode = p.productCode), 2) AS low_stock\n",
    "  FROM orderdetails od\n",
    " GROUP BY productCode\n",
    " ORDER BY low_stock\n",
    " LIMIT 10\n",
    ")\n",
    "\n",
    "SELECT productCode, \n",
    "       SUM(quantityOrdered * priceEach) AS prod_perf\n",
    "  FROM orderdetails od\n",
    " WHERE productCode IN (SELECT productCode\n",
    "                         FROM low_stock_table)\n",
    " GROUP BY productCode \n",
    " ORDER BY prod_perf DESC\n",
    " LIMIT 10;\n"
   ]
  },
  {
   "cell_type": "code",
   "execution_count": 9,
   "metadata": {},
   "outputs": [
    {
     "name": "stdout",
     "output_type": "stream",
     "text": [
      " * sqlite:///stores.db\n",
      "Done.\n"
     ]
    },
    {
     "data": {
      "text/html": [
       "<table>\n",
       "    <thead>\n",
       "        <tr>\n",
       "            <th>Model_Name</th>\n",
       "            <th>Quantity_at_Hand</th>\n",
       "            <th>No_of_Orders</th>\n",
       "            <th>Total_Quantity_Ordered</th>\n",
       "            <th>Total_Sales</th>\n",
       "            <th>Product_Line</th>\n",
       "        </tr>\n",
       "    </thead>\n",
       "    <tbody>\n",
       "        <tr>\n",
       "            <td>1968 Ford Mustang</td>\n",
       "            <td>68</td>\n",
       "            <td>26</td>\n",
       "            <td>909</td>\n",
       "            <td>157749.08</td>\n",
       "            <td>Classic Cars</td>\n",
       "        </tr>\n",
       "        <tr>\n",
       "            <td>1928 Mercedes-Benz SSK</td>\n",
       "            <td>548</td>\n",
       "            <td>26</td>\n",
       "            <td>813</td>\n",
       "            <td>121946.96</td>\n",
       "            <td>Vintage Cars</td>\n",
       "        </tr>\n",
       "        <tr>\n",
       "            <td>1997 BMW F650 ST</td>\n",
       "            <td>178</td>\n",
       "            <td>26</td>\n",
       "            <td>920</td>\n",
       "            <td>81440.8</td>\n",
       "            <td>Motorcycles</td>\n",
       "        </tr>\n",
       "        <tr>\n",
       "            <td>2002 Yamaha YZR M1</td>\n",
       "            <td>600</td>\n",
       "            <td>27</td>\n",
       "            <td>992</td>\n",
       "            <td>73670.64</td>\n",
       "            <td>Motorcycles</td>\n",
       "        </tr>\n",
       "        <tr>\n",
       "            <td>1960 BSA Gold Star DBD34</td>\n",
       "            <td>15</td>\n",
       "            <td>28</td>\n",
       "            <td>1015</td>\n",
       "            <td>67193.49</td>\n",
       "            <td>Motorcycles</td>\n",
       "        </tr>\n",
       "        <tr>\n",
       "            <td>F/A 18 Hornet 1/72</td>\n",
       "            <td>551</td>\n",
       "            <td>24</td>\n",
       "            <td>872</td>\n",
       "            <td>63905.6</td>\n",
       "            <td>Planes</td>\n",
       "        </tr>\n",
       "        <tr>\n",
       "            <td>1928 Ford Phaeton Deluxe</td>\n",
       "            <td>136</td>\n",
       "            <td>25</td>\n",
       "            <td>846</td>\n",
       "            <td>52518.05</td>\n",
       "            <td>Vintage Cars</td>\n",
       "        </tr>\n",
       "        <tr>\n",
       "            <td>1996 Peterbilt 379 Stake Bed with Outrigger</td>\n",
       "            <td>814</td>\n",
       "            <td>26</td>\n",
       "            <td>895</td>\n",
       "            <td>52046.16</td>\n",
       "            <td>Trucks and Buses</td>\n",
       "        </tr>\n",
       "        <tr>\n",
       "            <td>1911 Ford Town Car</td>\n",
       "            <td>540</td>\n",
       "            <td>22</td>\n",
       "            <td>709</td>\n",
       "            <td>38730.32</td>\n",
       "            <td>Vintage Cars</td>\n",
       "        </tr>\n",
       "        <tr>\n",
       "            <td>Pont Yacht</td>\n",
       "            <td>414</td>\n",
       "            <td>22</td>\n",
       "            <td>770</td>\n",
       "            <td>38061.72</td>\n",
       "            <td>Ships</td>\n",
       "        </tr>\n",
       "    </tbody>\n",
       "</table>"
      ],
      "text/plain": [
       "[('1968 Ford Mustang', 68, 26, 909, 157749.08, 'Classic Cars'),\n",
       " ('1928 Mercedes-Benz SSK', 548, 26, 813, 121946.96, 'Vintage Cars'),\n",
       " ('1997 BMW F650 ST', 178, 26, 920, 81440.8, 'Motorcycles'),\n",
       " ('2002 Yamaha YZR M1', 600, 27, 992, 73670.64, 'Motorcycles'),\n",
       " ('1960 BSA Gold Star DBD34', 15, 28, 1015, 67193.49, 'Motorcycles'),\n",
       " ('F/A 18 Hornet 1/72', 551, 24, 872, 63905.6, 'Planes'),\n",
       " ('1928 Ford Phaeton Deluxe', 136, 25, 846, 52518.05, 'Vintage Cars'),\n",
       " ('1996 Peterbilt 379 Stake Bed with Outrigger', 814, 26, 895, 52046.16, 'Trucks and Buses'),\n",
       " ('1911 Ford Town Car', 540, 22, 709, 38730.32, 'Vintage Cars'),\n",
       " ('Pont Yacht', 414, 22, 770, 38061.72, 'Ships')]"
      ]
     },
     "execution_count": 9,
     "metadata": {},
     "output_type": "execute_result"
    }
   ],
   "source": [
    "%%sql\n",
    "WITH\n",
    "--#Ten most popular products\n",
    "get_lowstock AS(\n",
    "SELECT productCode,\n",
    "       --#Use low stock formula\n",
    "       (SUM(od.quantityOrdered)*1.0)/ \n",
    "                       (SELECT quantityInStock\n",
    "                          FROM products\n",
    "                         WHERE od.productCode = productCode) AS low_stock\n",
    " FROM shipped_order_details od\n",
    "GROUP BY productCode\n",
    "ORDER BY low_stock DESC\n",
    "LIMIT 10\n",
    ")\n",
    "\n",
    "SELECT products.productName AS Model_Name,\n",
    "       products.quantityInStock AS Quantity_at_Hand,\n",
    "       COUNT(*) AS No_of_Orders,\n",
    "       SUM(shipped_order_details.quantityOrdered) AS Total_Quantity_Ordered,\n",
    "       --#Use product performance formula\n",
    "       ROUND(SUM(shipped_order_details.quantityOrdered*shipped_order_details.priceEach),2) AS Total_Sales,\n",
    "       products.productLine AS Product_Line\n",
    "  FROM shipped_order_details\n",
    "  JOIN products\n",
    "    ON products.productCode = shipped_order_details.productCode\n",
    " WHERE shipped_order_details.productCode IN (SELECT productCode\n",
    "                                               FROM get_lowstock)\n",
    " GROUP BY products.productCode\n",
    " ORDER BY Total_Sales DESC\n",
    " --LIMIT 10;"
   ]
  },
  {
   "cell_type": "markdown",
   "metadata": {},
   "source": [
    "Clearly the **1960 BSA Gold Star DBD34** is the model which is most in demand and less in quantity. Its potential sales value is also quite promising. Besides the Ferrari model, there are a number of other models that demand ordering more of based on their potential sales value.\n",
    "\n",
    "Another revealation from the above analysis is that the *Classic Cars* model seems to be the most popular model. We shall analyse this more as we go further."
   ]
  },
  {
   "cell_type": "markdown",
   "metadata": {},
   "source": [
    "# 5"
   ]
  },
  {
   "cell_type": "markdown",
   "metadata": {},
   "source": [
    "## Customer Loyalty\n",
    "**Identifying the Most Engaged and Least Engaged Customers**"
   ]
  },
  {
   "cell_type": "markdown",
   "metadata": {},
   "source": [
    "The next task placed before us is to identify the customers who have been the most loyal. Vehicle Models has 122 customers. We shall define the **top 5 customers**  as those who have brought the most profit for the organisation through their shipped orders."
   ]
  },
  {
   "cell_type": "code",
   "execution_count": 10,
   "metadata": {},
   "outputs": [
    {
     "name": "stdout",
     "output_type": "stream",
     "text": [
      " * sqlite:///stores.db\n",
      "Done.\n",
      "Done.\n"
     ]
    },
    {
     "data": {
      "text/html": [
       "<table>\n",
       "    <thead>\n",
       "        <tr>\n",
       "            <th>Name</th>\n",
       "            <th>City</th>\n",
       "            <th>Country</th>\n",
       "            <th>Profit_Earned</th>\n",
       "        </tr>\n",
       "    </thead>\n",
       "    <tbody>\n",
       "        <tr>\n",
       "            <td>Freyre, Diego </td>\n",
       "            <td>Madrid</td>\n",
       "            <td>Spain</td>\n",
       "            <td>263439.51</td>\n",
       "        </tr>\n",
       "        <tr>\n",
       "            <td>Nelson, Susan</td>\n",
       "            <td>San Rafael</td>\n",
       "            <td>USA</td>\n",
       "            <td>232494.29</td>\n",
       "        </tr>\n",
       "        <tr>\n",
       "            <td>Young, Jeff</td>\n",
       "            <td>NYC</td>\n",
       "            <td>USA</td>\n",
       "            <td>72370.09</td>\n",
       "        </tr>\n",
       "        <tr>\n",
       "            <td>Ferguson, Peter</td>\n",
       "            <td>Melbourne</td>\n",
       "            <td>Australia</td>\n",
       "            <td>70311.07</td>\n",
       "        </tr>\n",
       "        <tr>\n",
       "            <td>Natividad, Eric</td>\n",
       "            <td>Singapore</td>\n",
       "            <td>Singapore</td>\n",
       "            <td>60477.38</td>\n",
       "        </tr>\n",
       "    </tbody>\n",
       "</table>"
      ],
      "text/plain": [
       "[('Freyre, Diego ', 'Madrid', 'Spain', 263439.51),\n",
       " ('Nelson, Susan', 'San Rafael', 'USA', 232494.29),\n",
       " ('Young, Jeff', 'NYC', 'USA', 72370.09),\n",
       " ('Ferguson, Peter', 'Melbourne', 'Australia', 70311.07),\n",
       " ('Natividad, Eric', 'Singapore', 'Singapore', 60477.38)]"
      ]
     },
     "execution_count": 10,
     "metadata": {},
     "output_type": "execute_result"
    }
   ],
   "source": [
    "%%sql\n",
    "CREATE VIEW customer_profit_report AS\n",
    "SELECT shipped_orders.customerNumber AS customer_id,\n",
    "       ROUND(SUM(shipped_order_details.quantityOrdered * (shipped_order_details.priceEach - products.buyPrice)),2) AS profit,\n",
    "       COUNT(*) AS no_of_orders\n",
    "  FROM shipped_orders\n",
    "  JOIN shipped_order_details\n",
    "    ON shipped_order_details.orderNumber=shipped_orders.orderNumber\n",
    "  JOIN products\n",
    "    ON shipped_order_details.productCode=products.productCode\n",
    " GROUP BY shipped_orders.customerNumber;\n",
    "\n",
    "SELECT customers.contactLastName||\", \"||customers.contactFirstName AS Name,\n",
    "       customers.city AS City,\n",
    "       customers.country AS Country,\n",
    "       customer_profit_report.profit AS Profit_Earned\n",
    "  FROM customers\n",
    "  JOIN customer_profit_report\n",
    "    ON customers.customerNumber = customer_profit_report.customer_id\n",
    " WHERE customer_profit_report.customer_id IN (SELECT customer_id\n",
    "                                                FROM customer_profit_report\n",
    "                                               ORDER BY profit DESC\n",
    "                                               LIMIT 5)\n",
    " ORDER BY customer_profit_report.profit DESC;"
   ]
  },
  {
   "cell_type": "markdown",
   "metadata": {},
   "source": [
    "Since we have the top 5 customers, we should also look at **5 of the customers who are least engaged** with the organization."
   ]
  },
  {
   "cell_type": "code",
   "execution_count": 11,
   "metadata": {},
   "outputs": [
    {
     "name": "stdout",
     "output_type": "stream",
     "text": [
      " * sqlite:///stores.db\n",
      "Done.\n"
     ]
    },
    {
     "data": {
      "text/html": [
       "<table>\n",
       "    <thead>\n",
       "        <tr>\n",
       "            <th>Name</th>\n",
       "            <th>City</th>\n",
       "            <th>Country</th>\n",
       "            <th>Profit</th>\n",
       "        </tr>\n",
       "    </thead>\n",
       "    <tbody>\n",
       "        <tr>\n",
       "            <td>Young, Mary</td>\n",
       "            <td>Glendale</td>\n",
       "            <td>USA</td>\n",
       "            <td>2610.87</td>\n",
       "        </tr>\n",
       "        <tr>\n",
       "            <td>Taylor, Leslie</td>\n",
       "            <td>Brickhaven</td>\n",
       "            <td>USA</td>\n",
       "            <td>6586.02</td>\n",
       "        </tr>\n",
       "        <tr>\n",
       "            <td>Mendel, Roland </td>\n",
       "            <td>Graz</td>\n",
       "            <td>Austria</td>\n",
       "            <td>8473.59</td>\n",
       "        </tr>\n",
       "        <tr>\n",
       "            <td>Ricotti, Franco</td>\n",
       "            <td>Milan</td>\n",
       "            <td>Italy</td>\n",
       "            <td>9532.93</td>\n",
       "        </tr>\n",
       "        <tr>\n",
       "            <td>Schmitt, Carine </td>\n",
       "            <td>Nantes</td>\n",
       "            <td>France</td>\n",
       "            <td>10063.8</td>\n",
       "        </tr>\n",
       "    </tbody>\n",
       "</table>"
      ],
      "text/plain": [
       "[('Young, Mary', 'Glendale', 'USA', 2610.87),\n",
       " ('Taylor, Leslie', 'Brickhaven', 'USA', 6586.02),\n",
       " ('Mendel, Roland ', 'Graz', 'Austria', 8473.59),\n",
       " ('Ricotti, Franco', 'Milan', 'Italy', 9532.93),\n",
       " ('Schmitt, Carine ', 'Nantes', 'France', 10063.8)]"
      ]
     },
     "execution_count": 11,
     "metadata": {},
     "output_type": "execute_result"
    }
   ],
   "source": [
    "%%sql\n",
    "SELECT customers.contactLastName||\", \"||customers.contactFirstName AS Name,\n",
    "       customers.city AS City,\n",
    "       customers.country AS Country,\n",
    "       customer_profit_report.profit AS Profit\n",
    "  FROM customers\n",
    "  JOIN customer_profit_report\n",
    "    ON customers.customerNumber = customer_profit_report.customer_id\n",
    " WHERE customer_profit_report.customer_id IN (SELECT customer_id\n",
    "                                                FROM customer_profit_report\n",
    "                                               ORDER BY profit ASC\n",
    "                                               LIMIT 5)\n",
    " ORDER BY customer_profit_report.profit ASC;"
   ]
  },
  {
   "cell_type": "markdown",
   "metadata": {},
   "source": [
    "# 6"
   ]
  },
  {
   "cell_type": "markdown",
   "metadata": {},
   "source": [
    "## Show Me the Money...by Country!\n",
    "**Analysing profits earned by Country**"
   ]
  },
  {
   "cell_type": "markdown",
   "metadata": {},
   "source": [
    "Marketing is a costly affair. We need to identify markets where our strategy will yield the most customers. Besides attracting customers, we should be able to get high value customers to increase our profits. Since no parameters have been specfied, we will try to identify the potential markets from the existing customers and the sales they have made to date.\n",
    "\n",
    "We shall focus on the following parameters:\n",
    "- The number of customers in each country\n",
    "- The percentage of profit contributed by each country towards the total time period for which we hold the sales data\n",
    "- The profit generated by each customer of our current customer countries\n",
    "\n",
    "This analysis should help to decide which countries to focus marketing on so as to increase profits."
   ]
  },
  {
   "cell_type": "code",
   "execution_count": 13,
   "metadata": {},
   "outputs": [
    {
     "name": "stdout",
     "output_type": "stream",
     "text": [
      " * sqlite:///stores.db\n",
      "Done.\n"
     ]
    },
    {
     "data": {
      "text/html": [
       "<table>\n",
       "    <thead>\n",
       "        <tr>\n",
       "            <th>Country</th>\n",
       "            <th>No_of_Customers</th>\n",
       "            <th>Profit_Earned</th>\n",
       "            <th>Profit_Per_Customer</th>\n",
       "            <th>Profit_Percentage</th>\n",
       "        </tr>\n",
       "    </thead>\n",
       "    <tbody>\n",
       "        <tr>\n",
       "            <td>USA</td>\n",
       "            <td>35</td>\n",
       "            <td>1214220.48</td>\n",
       "            <td>34692.01</td>\n",
       "            <td>34.32</td>\n",
       "        </tr>\n",
       "        <tr>\n",
       "            <td>France</td>\n",
       "            <td>12</td>\n",
       "            <td>397728.61</td>\n",
       "            <td>33144.05</td>\n",
       "            <td>11.24</td>\n",
       "        </tr>\n",
       "        <tr>\n",
       "            <td>Spain</td>\n",
       "            <td>5</td>\n",
       "            <td>376924.39</td>\n",
       "            <td>75384.88</td>\n",
       "            <td>10.66</td>\n",
       "        </tr>\n",
       "        <tr>\n",
       "            <td>Australia</td>\n",
       "            <td>5</td>\n",
       "            <td>201879.08</td>\n",
       "            <td>40375.82</td>\n",
       "            <td>5.71</td>\n",
       "        </tr>\n",
       "        <tr>\n",
       "            <td>New Zealand</td>\n",
       "            <td>4</td>\n",
       "            <td>165096.92</td>\n",
       "            <td>41274.23</td>\n",
       "            <td>4.67</td>\n",
       "        </tr>\n",
       "        <tr>\n",
       "            <td>UK</td>\n",
       "            <td>5</td>\n",
       "            <td>155313.0</td>\n",
       "            <td>31062.6</td>\n",
       "            <td>4.39</td>\n",
       "        </tr>\n",
       "        <tr>\n",
       "            <td>Italy</td>\n",
       "            <td>4</td>\n",
       "            <td>144459.86</td>\n",
       "            <td>36114.97</td>\n",
       "            <td>4.08</td>\n",
       "        </tr>\n",
       "        <tr>\n",
       "            <td>Finland</td>\n",
       "            <td>3</td>\n",
       "            <td>117239.33</td>\n",
       "            <td>39079.78</td>\n",
       "            <td>3.31</td>\n",
       "        </tr>\n",
       "        <tr>\n",
       "            <td>Singapore</td>\n",
       "            <td>2</td>\n",
       "            <td>101782.55</td>\n",
       "            <td>50891.28</td>\n",
       "            <td>2.88</td>\n",
       "        </tr>\n",
       "        <tr>\n",
       "            <td>Canada</td>\n",
       "            <td>3</td>\n",
       "            <td>78858.78</td>\n",
       "            <td>26286.26</td>\n",
       "            <td>2.23</td>\n",
       "        </tr>\n",
       "        <tr>\n",
       "            <td>Germany</td>\n",
       "            <td>3</td>\n",
       "            <td>77505.7</td>\n",
       "            <td>25835.23</td>\n",
       "            <td>2.19</td>\n",
       "        </tr>\n",
       "        <tr>\n",
       "            <td>Denmark</td>\n",
       "            <td>2</td>\n",
       "            <td>69486.7</td>\n",
       "            <td>34743.35</td>\n",
       "            <td>1.96</td>\n",
       "        </tr>\n",
       "        <tr>\n",
       "            <td>Japan</td>\n",
       "            <td>2</td>\n",
       "            <td>67848.06</td>\n",
       "            <td>33924.03</td>\n",
       "            <td>1.92</td>\n",
       "        </tr>\n",
       "        <tr>\n",
       "            <td>Norway  </td>\n",
       "            <td>2</td>\n",
       "            <td>66257.82</td>\n",
       "            <td>33128.91</td>\n",
       "            <td>1.87</td>\n",
       "        </tr>\n",
       "        <tr>\n",
       "            <td>Austria</td>\n",
       "            <td>2</td>\n",
       "            <td>63198.27</td>\n",
       "            <td>31599.14</td>\n",
       "            <td>1.79</td>\n",
       "        </tr>\n",
       "        <tr>\n",
       "            <td>Sweden</td>\n",
       "            <td>2</td>\n",
       "            <td>47774.77</td>\n",
       "            <td>23887.39</td>\n",
       "            <td>1.35</td>\n",
       "        </tr>\n",
       "        <tr>\n",
       "            <td>Switzerland</td>\n",
       "            <td>1</td>\n",
       "            <td>43393.75</td>\n",
       "            <td>43393.75</td>\n",
       "            <td>1.23</td>\n",
       "        </tr>\n",
       "        <tr>\n",
       "            <td>Norway</td>\n",
       "            <td>1</td>\n",
       "            <td>41391.52</td>\n",
       "            <td>41391.52</td>\n",
       "            <td>1.17</td>\n",
       "        </tr>\n",
       "        <tr>\n",
       "            <td>Philippines</td>\n",
       "            <td>1</td>\n",
       "            <td>35987.68</td>\n",
       "            <td>35987.68</td>\n",
       "            <td>1.02</td>\n",
       "        </tr>\n",
       "        <tr>\n",
       "            <td>Belgium</td>\n",
       "            <td>2</td>\n",
       "            <td>34723.63</td>\n",
       "            <td>17361.82</td>\n",
       "            <td>0.98</td>\n",
       "        </tr>\n",
       "        <tr>\n",
       "            <td>Ireland</td>\n",
       "            <td>1</td>\n",
       "            <td>19588.29</td>\n",
       "            <td>19588.29</td>\n",
       "            <td>0.55</td>\n",
       "        </tr>\n",
       "        <tr>\n",
       "            <td>Hong Kong</td>\n",
       "            <td>1</td>\n",
       "            <td>16868.68</td>\n",
       "            <td>16868.68</td>\n",
       "            <td>0.48</td>\n",
       "        </tr>\n",
       "    </tbody>\n",
       "</table>"
      ],
      "text/plain": [
       "[('USA', 35, 1214220.48, 34692.01, 34.32),\n",
       " ('France', 12, 397728.61, 33144.05, 11.24),\n",
       " ('Spain', 5, 376924.39, 75384.88, 10.66),\n",
       " ('Australia', 5, 201879.08, 40375.82, 5.71),\n",
       " ('New Zealand', 4, 165096.92, 41274.23, 4.67),\n",
       " ('UK', 5, 155313.0, 31062.6, 4.39),\n",
       " ('Italy', 4, 144459.86, 36114.97, 4.08),\n",
       " ('Finland', 3, 117239.33, 39079.78, 3.31),\n",
       " ('Singapore', 2, 101782.55, 50891.28, 2.88),\n",
       " ('Canada', 3, 78858.78, 26286.26, 2.23),\n",
       " ('Germany', 3, 77505.7, 25835.23, 2.19),\n",
       " ('Denmark', 2, 69486.7, 34743.35, 1.96),\n",
       " ('Japan', 2, 67848.06, 33924.03, 1.92),\n",
       " ('Norway  ', 2, 66257.82, 33128.91, 1.87),\n",
       " ('Austria', 2, 63198.27, 31599.14, 1.79),\n",
       " ('Sweden', 2, 47774.77, 23887.39, 1.35),\n",
       " ('Switzerland', 1, 43393.75, 43393.75, 1.23),\n",
       " ('Norway', 1, 41391.52, 41391.52, 1.17),\n",
       " ('Philippines', 1, 35987.68, 35987.68, 1.02),\n",
       " ('Belgium', 2, 34723.63, 17361.82, 0.98),\n",
       " ('Ireland', 1, 19588.29, 19588.29, 0.55),\n",
       " ('Hong Kong', 1, 16868.68, 16868.68, 0.48)]"
      ]
     },
     "execution_count": 13,
     "metadata": {},
     "output_type": "execute_result"
    }
   ],
   "source": [
    "%%sql\n",
    "SELECT customers.country AS Country,\n",
    "          COUNT(*) AS No_of_Customers,\n",
    "          ROUND(SUM(customer_profit_report.profit),2) AS Profit_Earned,\n",
    "          ROUND(SUM(customer_profit_report.profit)/COUNT(*),2) AS Profit_Per_Customer,\n",
    "          ROUND((SUM(customer_profit_report.profit) * 100.0 / \n",
    "                                                            (SELECT SUM(profit)\n",
    "                                                             FROM customer_profit_report)), 2) AS Profit_Percentage\n",
    "     FROM customers\n",
    "     JOIN customer_profit_report\n",
    "       ON customers.customerNumber = customer_profit_report.customer_id\n",
    "    GROUP BY customers.country\n",
    "    ORDER BY Profit_Earned DESC;"
   ]
  },
  {
   "cell_type": "code",
   "execution_count": null,
   "metadata": {},
   "outputs": [],
   "source": []
  }
 ],
 "metadata": {
  "interpreter": {
   "hash": "f76fe04991faffe06b4e1a4e6744c6f68f9ce7041f320ae590fc5c63dfb555f9"
  },
  "kernelspec": {
   "display_name": "Python 3.9.12",
   "language": "python",
   "name": "python3"
  },
  "language_info": {
   "codemirror_mode": {
    "name": "ipython",
    "version": 3
   },
   "file_extension": ".py",
   "mimetype": "text/x-python",
   "name": "python",
   "nbconvert_exporter": "python",
   "pygments_lexer": "ipython3",
   "version": "3.9.12"
  },
  "orig_nbformat": 4
 },
 "nbformat": 4,
 "nbformat_minor": 2
}
